{
 "cells": [
  {
   "cell_type": "code",
   "execution_count": 1,
   "id": "70860faf",
   "metadata": {},
   "outputs": [
    {
     "name": "stdout",
     "output_type": "stream",
     "text": [
      "10 type of  <class 'int'>\n",
      "hi I am adarsh\n"
     ]
    }
   ],
   "source": [
    "x=10\n",
    "print(x,\"type of \",type(x))\n",
    "print(\"hi I am adarsh\")"
   ]
  },
  {
   "cell_type": "code",
   "execution_count": null,
   "id": "a32f7329",
   "metadata": {},
   "outputs": [],
   "source": []
  }
 ],
 "metadata": {
  "kernelspec": {
   "display_name": "Python 3 (ipykernel)",
   "language": "python",
   "name": "python3"
  },
  "language_info": {
   "codemirror_mode": {
    "name": "ipython",
    "version": 3
   },
   "file_extension": ".py",
   "mimetype": "text/x-python",
   "name": "python",
   "nbconvert_exporter": "python",
   "pygments_lexer": "ipython3",
   "version": "3.8.12"
  }
 },
 "nbformat": 4,
 "nbformat_minor": 5
}
